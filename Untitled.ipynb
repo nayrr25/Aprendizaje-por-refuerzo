{
 "cells": [
  {
   "cell_type": "markdown",
   "id": "875706f6",
   "metadata": {},
   "source": [
    "https://gymnasium.farama.org/environments/classic_control/mountain_car/"
   ]
  },
  {
   "cell_type": "code",
   "execution_count": 15,
   "id": "27f9cd5f",
   "metadata": {},
   "outputs": [],
   "source": [
    "import gym "
   ]
  },
  {
   "cell_type": "code",
   "execution_count": 16,
   "id": "058715c4",
   "metadata": {},
   "outputs": [],
   "source": [
    "env= gym.make('MountainCar-v0')"
   ]
  },
  {
   "cell_type": "code",
   "execution_count": 17,
   "id": "ea56140f",
   "metadata": {},
   "outputs": [
    {
     "data": {
      "text/plain": [
       "Discrete(3)"
      ]
     },
     "execution_count": 17,
     "metadata": {},
     "output_type": "execute_result"
    }
   ],
   "source": [
    "env.action_space"
   ]
  },
  {
   "cell_type": "markdown",
   "id": "eeebcea1",
   "metadata": {},
   "source": [
    "Action Space\n",
    "There are 3 discrete deterministic actions:\n",
    "\n",
    "0: Accelerate to the left\n",
    "\n",
    "1: Don’t accelerate\n",
    "\n",
    "2: Accelerate to the right\n",
    "\n"
   ]
  },
  {
   "cell_type": "code",
   "execution_count": 18,
   "id": "618866c2",
   "metadata": {
    "scrolled": true
   },
   "outputs": [
    {
     "data": {
      "text/plain": [
       "Box([-1.2  -0.07], [0.6  0.07], (2,), float32)"
      ]
     },
     "execution_count": 18,
     "metadata": {},
     "output_type": "execute_result"
    }
   ],
   "source": [
    "env.observation_space"
   ]
  },
  {
   "cell_type": "code",
   "execution_count": null,
   "id": "0a59e7b7",
   "metadata": {},
   "outputs": [],
   "source": [
    "def discretizar()"
   ]
  },
  {
   "cell_type": "code",
   "execution_count": 22,
   "id": "2e678c0c",
   "metadata": {},
   "outputs": [],
   "source": [
    "env.reset()\n",
    "final = False\n",
    "max_pasos = 200  # Establece un límite máximo de pasos\n",
    "pasos = 0\n",
    "\n",
    "while not final and pasos < max_pasos:\n",
    "    accion = 0\n",
    "    result = env.step(accion)\n",
    "    nuevo_estado, recompensa, final, info = result[:4]\n",
    "    env.render()\n",
    "    pasos += 1\n",
    "\n",
    "env.close()"
   ]
  },
  {
   "cell_type": "code",
   "execution_count": null,
   "id": "06025c38",
   "metadata": {},
   "outputs": [],
   "source": []
  }
 ],
 "metadata": {
  "kernelspec": {
   "display_name": "Python 3 (ipykernel)",
   "language": "python",
   "name": "python3"
  },
  "language_info": {
   "codemirror_mode": {
    "name": "ipython",
    "version": 3
   },
   "file_extension": ".py",
   "mimetype": "text/x-python",
   "name": "python",
   "nbconvert_exporter": "python",
   "pygments_lexer": "ipython3",
   "version": "3.11.5"
  }
 },
 "nbformat": 4,
 "nbformat_minor": 5
}
